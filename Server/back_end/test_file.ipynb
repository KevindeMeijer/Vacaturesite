{
 "cells": [
  {
   "cell_type": "code",
   "execution_count": 31,
   "metadata": {
    "tags": [
     "outputPrepend"
    ]
   },
   "outputs": [
    {
     "output_type": "stream",
     "name": "stdout",
     "text": "(\"Position: frontend Web Developer (JavaScript, CSS, HTML)Location: Boston, MA (work can be done remotely or in the office)Term: 10 WeeksOur publicly traded and renowned healthcare client in Boston, MA is building out their innovation team! This opportunity offers a rare combination of the smallness, agility, and fun of a startup-style organization, backed by the resources, opportunities, and impact of a Fortune 100 enterprise. They are looking for a frontend Web Developer to join their Boston-based team. Their organization is tasked with staying on top of the latest web application technologies and best practices. This is an important 10 week contract to help push out a deliverable. They need to hire a Senior Web Developer to take designs given to them, and crank out a good web client.Required Skills:* Solid experience designing and implementing web applications* Strong understanding of the browser tier, including CSS3, HTML5* Production experience with one or more MV* Javascript frameworks, ideally react.js (but similar are perfectly acceptable, i.e., backbone.js, meteor.js, ember.js, angular.js)Desired Skills, NOT REQUIRED:* Experience working in an Agile environment, especially Scrum* Experience implementing mobile web/hybrid mobile solutions* Experience with responsive designs and libraries, such as Twitter Bootstrap* React.JS* Node.JSLearn more about us at: www.incendia.comPlease visit our web page for a complete listing of open positions. New positions are added regularly.All contact with Incendia Partners is private and confidential. About us:For over 11 years Incendia Partners has been specializing in the placement of software and IT professionals for leading companies in the greater Boston area. As a testament to our success, we were named by Inc. Magazine as one of America's 500 fastest growing companies for 3 straight years.Why work with us? Our combined 70 years in the software industry provides you with the contacts and expertise to help you complete your job search faster, and with less stress, while introducing you to the area's best companies. We focus on working with each individual to find what it is they are looking for and to provide a customized job search that fits your needs. For the past 10+ years, Boston' best engineers have relied on Incendia to find the best job opportunities.Keywords, not required: react, backbone, meteor, node, ember, angular, web developer, frontend, ux, user experience\",)\n"
    }
   ],
   "source": [
    "import pymysql.cursors\n",
    "connection = pymysql.connect(host = '127.0.0.1',\n",
    "                             user = 'Alexander',\n",
    "                             password = 'root',\n",
    "                             db = 'vacaturesite')\n",
    "try:\n",
    "    with connection.cursor() as cursor:\n",
    "        testing = \"SELECT `job_description` FROM `vacatures` WHERE `id_vacatures` = 2\"\n",
    "        cursor.execute(testing)\n",
    "        data = cursor.fetchone()\n",
    "        print(data)\n",
    "finally:\n",
    "    connection.close()"
   ]
  },
  {
   "cell_type": "code",
   "execution_count": 8,
   "metadata": {},
   "outputs": [],
   "source": [
    "import pprint\n",
    "import json\n",
    "import string\n",
    "import re\n",
    "import gensim\n",
    "from gensim.parsing.preprocessing import remove_stopwords, STOPWORDS\n",
    "import nltk as nltk\n",
    "from nltk.tokenize import word_tokenize\n",
    "from nltk.stem import WordNetLemmatizer \n",
    "from part_of_speech import get_part_of_speech"
   ]
  },
  {
   "cell_type": "code",
   "execution_count": 34,
   "metadata": {},
   "outputs": [],
   "source": [
    "remove_punctuations = str.maketrans('', '', string.punctuation)\n",
    "remove_digits = str.maketrans('', '', string.digits)\n",
    "all_stopwords = gensim.parsing.preprocessing.STOPWORDS\n",
    "lemmatizer = WordNetLemmatizer()\n",
    "\n",
    "\n",
    "vacature_description = []\n",
    "divided_sentense_vacature_list = []\n",
    "\n",
    "\n",
    "#Het splitten van beschrijvingen van alle vacatures\n",
    "for zin in data:\n",
    "    without_stopwords = remove_stopwords(zin)\n",
    "    sentences = without_stopwords.split('.')\n",
    "    for sentence in sentences:\n",
    "        vacature_description.append(sentence.translate(remove_punctuations).translate(remove_digits).lower())\n",
    "\n",
    "#Het zeten vna elke sentence in een list\n",
    "for divided_sentence in vacature_description:\n",
    "    divided = divided_sentence.split()\n",
    "    new_divided = []\n",
    "    for divided_word in divided:\n",
    "        lemmatized_words = lemmatizer.lemmatize(divided_word, get_part_of_speech(divided_word))\n",
    "        new_divided.append(lemmatized_words)\n",
    "    divided_sentense_vacature_list.append(new_divided)"
   ]
  },
  {
   "cell_type": "code",
   "execution_count": 36,
   "metadata": {
    "tags": [
     "outputPrepend",
     "outputPrepend",
     "outputPrepend",
     "outputPrepend",
     "outputPrepend",
     "outputPrepend",
     "outputPrepend",
     "outputPrepend",
     "outputPrepend"
    ]
   },
   "outputs": [
    {
     "output_type": "execute_result",
     "data": {
      "text/plain": "[['position',\n  'frontend',\n  'web',\n  'developer',\n  'javascript',\n  'cs',\n  'htmllocation',\n  'boston',\n  'ma',\n  'work',\n  'remotely',\n  'officeterm',\n  'weeksour',\n  'publicly',\n  'trade',\n  'renowned',\n  'healthcare',\n  'client',\n  'boston',\n  'ma',\n  'build',\n  'innovation',\n  'team',\n  'this',\n  'opportunity',\n  'offer',\n  'rare',\n  'combination',\n  'smallness',\n  'agility',\n  'fun',\n  'startupstyle',\n  'organization',\n  'back',\n  'resource',\n  'opportunity',\n  'impact',\n  'fortune',\n  'enterprise'],\n ['they',\n  'look',\n  'frontend',\n  'web',\n  'developer',\n  'join',\n  'bostonbased',\n  'team'],\n ['their',\n  'organization',\n  'task',\n  'stay',\n  'late',\n  'web',\n  'application',\n  'technology',\n  'best',\n  'practice'],\n ['this', 'important', 'week', 'contract', 'help', 'push', 'deliverable'],\n ['they',\n  'need',\n  'hire',\n  'senior',\n  'web',\n  'developer',\n  'design',\n  'give',\n  'them',\n  'crank',\n  'good',\n  'web',\n  'client'],\n ['require',\n  'skill',\n  'solid',\n  'experience',\n  'design',\n  'implement',\n  'web',\n  'application',\n  'strong',\n  'understand',\n  'browser',\n  'tier',\n  'include',\n  'cs',\n  'html',\n  'production',\n  'experience',\n  'mv',\n  'javascript',\n  'framework',\n  'ideally',\n  'react'],\n ['j', 'but', 'similar', 'perfectly', 'acceptable', 'i'],\n ['e'],\n ['backbone'],\n ['j', 'meteor'],\n ['j', 'ember'],\n ['j', 'angular'],\n ['jsdesired',\n  'skill',\n  'not',\n  'require',\n  'experience',\n  'work',\n  'agile',\n  'environment',\n  'especially',\n  'scrum',\n  'experience',\n  'implement',\n  'mobile',\n  'webhybrid',\n  'mobile',\n  'solution',\n  'experience',\n  'responsive',\n  'design',\n  'library',\n  'twitter',\n  'bootstrap',\n  'react'],\n ['j', 'node'],\n ['jslearn', 'at', 'www'],\n ['incendia'],\n ['complease', 'visit', 'web', 'page', 'complete', 'list', 'open', 'position'],\n ['new', 'position', 'add', 'regularly'],\n ['all', 'contact', 'incendia', 'partner', 'private', 'confidential'],\n ['about',\n  'usfor',\n  'year',\n  'incendia',\n  'partner',\n  'specialize',\n  'placement',\n  'software',\n  'it',\n  'professional',\n  'lead',\n  'company',\n  'great',\n  'boston',\n  'area'],\n ['a', 'testament', 'success', 'name', 'inc'],\n ['magazine', 'america', 'fast', 'grow', 'company', 'straight', 'year'],\n ['why',\n  'work',\n  'u',\n  'our',\n  'combine',\n  'year',\n  'software',\n  'industry',\n  'provide',\n  'contact',\n  'expertise',\n  'help',\n  'complete',\n  'job',\n  'search',\n  'fast',\n  'stress',\n  'introduce',\n  'area',\n  'best',\n  'company'],\n ['we',\n  'focus',\n  'work',\n  'individual',\n  'look',\n  'provide',\n  'customize',\n  'job',\n  'search',\n  'fit',\n  'need'],\n ['for',\n  'past',\n  'year',\n  'boston',\n  'best',\n  'engineer',\n  'rely',\n  'incendia',\n  'best',\n  'job',\n  'opportunity'],\n ['keywords',\n  'require',\n  'react',\n  'backbone',\n  'meteor',\n  'node',\n  'ember',\n  'angular',\n  'web',\n  'developer',\n  'frontend',\n  'ux',\n  'user',\n  'experience']]"
     },
     "metadata": {},
     "execution_count": 36
    }
   ],
   "source": [
    "divided_sentense_vacature_list"
   ]
  },
  {
   "cell_type": "code",
   "execution_count": null,
   "metadata": {},
   "outputs": [],
   "source": []
  }
 ],
 "metadata": {
  "language_info": {
   "codemirror_mode": {
    "name": "ipython",
    "version": 3
   },
   "file_extension": ".py",
   "mimetype": "text/x-python",
   "name": "python",
   "nbconvert_exporter": "python",
   "pygments_lexer": "ipython3",
   "version": "3.7.6-final"
  },
  "orig_nbformat": 2,
  "kernelspec": {
   "name": "python37664bit79ca10c6d3a7415c98f7bdaeac8adea5",
   "display_name": "Python 3.7.6 64-bit"
  }
 },
 "nbformat": 4,
 "nbformat_minor": 2
}