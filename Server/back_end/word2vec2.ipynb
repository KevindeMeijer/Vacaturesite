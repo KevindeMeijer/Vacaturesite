{
 "cells": [
  {
   "cell_type": "code",
   "execution_count": 21,
   "metadata": {
    "tags": [
     "outputPrepend"
    ]
   },
   "outputs": [],
   "source": [
    "import gensim\n",
    "import logging\n",
    "import os\n",
    "from gensim.models import Word2Vec\n",
    "\n",
    "from sklearn.decomposition import PCA\n",
    "from matplotlib import pyplot\n",
    "\n",
    "from nosql_db_connectie import divided_sentense_vacature_list, vacature_description\n",
    "\n",
    "logging.basicConfig(format=\"%(asctime)s : %(levelname)s : %(message)s, level=logging.INFO\")"
   ]
  },
  {
   "cell_type": "code",
   "execution_count": 26,
   "metadata": {
    "tags": [
     "outputPrepend"
    ]
   },
   "outputs": [],
   "source": [
    "model = gensim.models.Word2Vec(divided_sentense_vacature_list, size=120, window=5, min_count=5, workers=4, iter=15)"
   ]
  },
  {
   "cell_type": "code",
   "execution_count": 27,
   "metadata": {},
   "outputs": [
    {
     "output_type": "execute_result",
     "data": {
      "text/plain": "[('java', 0.9941825866699219),\n ('must', 0.973484456539154),\n ('required', 0.9621815085411072),\n ('skills', 0.9465842843055725),\n ('c', 0.9459413290023804),\n ('salesforce', 0.9457970857620239),\n ('minimum', 0.9342948198318481),\n ('years', 0.9325248003005981),\n ('react', 0.9251852035522461),\n ('strong', 0.9145355820655823),\n ('linux', 0.9025895595550537),\n ('angular', 0.8983829021453857),\n ('aws', 0.8778582811355591),\n ('excellent', 0.8775395750999451),\n ('stack', 0.8766158223152161),\n ('javascript', 0.8748897910118103),\n ('spring', 0.86268150806427),\n ('plus', 0.861261248588562),\n ('js', 0.8554244041442871),\n ('net', 0.8537248373031616)]"
     },
     "metadata": {},
     "execution_count": 27
    }
   ],
   "source": [
    "model = Word2Vec.load(\"test_model\")\n",
    "w1 = [\"python\"]\n",
    "model.wv.most_similar(positive=w1, topn=20)\n"
   ]
  },
  {
   "cell_type": "code",
   "execution_count": null,
   "metadata": {},
   "outputs": [],
   "source": []
  }
 ],
 "metadata": {
  "language_info": {
   "name": "python",
   "codemirror_mode": {
    "name": "ipython",
    "version": 3
   },
   "version": "3.7.6-final"
  },
  "orig_nbformat": 2,
  "file_extension": ".py",
  "mimetype": "text/x-python",
  "name": "python",
  "npconvert_exporter": "python",
  "pygments_lexer": "ipython3",
  "version": 3,
  "kernelspec": {
   "name": "python37664bit79ca10c6d3a7415c98f7bdaeac8adea5",
   "display_name": "Python 3.7.6 64-bit"
  }
 },
 "nbformat": 4,
 "nbformat_minor": 2
}