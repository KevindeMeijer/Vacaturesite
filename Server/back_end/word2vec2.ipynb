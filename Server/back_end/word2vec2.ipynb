{
 "nbformat": 4,
 "nbformat_minor": 2,
 "metadata": {
  "language_info": {
   "name": "python",
   "codemirror_mode": {
    "name": "ipython",
    "version": 3
   },
   "version": "3.7.6-final"
  },
  "orig_nbformat": 2,
  "file_extension": ".py",
  "mimetype": "text/x-python",
  "name": "python",
  "npconvert_exporter": "python",
  "pygments_lexer": "ipython3",
  "version": 3,
  "kernelspec": {
   "name": "python37664bit79ca10c6d3a7415c98f7bdaeac8adea5",
   "display_name": "Python 3.7.6 64-bit"
  }
 },
 "cells": [
  {
   "cell_type": "code",
   "execution_count": 2,
   "metadata": {
    "tags": [
     "outputPrepend"
    ]
   },
   "outputs": [
    {
     "output_type": "stream",
     "name": "stdout",
     "text": "Database(MongoClient(host=['employmentinsights-shard-00-02-edrz0.gcp.mongodb.net:27017', 'employmentinsights-shard-00-01-edrz0.gcp.mongodb.net:27017', 'employmentinsights-shard-00-00-edrz0.gcp.mongodb.net:27017'], document_class=dict, tz_aware=False, connect=True, retrywrites=True, w='majority', authsource='admin', replicaset='EmploymentInsights-shard-0', ssl=True), 'EmploymentInsights')\n"
    }
   ],
   "source": [
    "import gensim\n",
    "import logging\n",
    "import os\n",
    "from gensim.models import Word2Vec\n",
    "\n",
    "from sklearn.decomposition import PCA\n",
    "from matplotlib import pyplot\n",
    "\n",
    "from nosql_db_connectie import divided_sentense_vacature_list, vacature_description, all_stopwords\n",
    "\n",
    "logging.basicConfig(format=\"%(asctime)s : %(levelname)s : %(message)s, level=logging.INFO\")"
   ]
  },
  {
   "cell_type": "code",
   "execution_count": 44,
   "metadata": {
    "tags": [
     "outputPrepend"
    ]
   },
   "outputs": [],
   "source": [
    "model = gensim.models.Word2Vec(divided_sentense_vacature_list, size=120, window=5, min_count=5, workers=4, iter=15)"
   ]
  },
  {
   "cell_type": "code",
   "execution_count": 8,
   "metadata": {},
   "outputs": [
    {
     "output_type": "execute_result",
     "data": {
      "text/plain": "[('html', 0.9976935982704163),\n ('scripting', 0.9917552471160889),\n ('mvc', 0.9912278056144714),\n ('hands', 0.9910588264465332),\n ('languages', 0.9897689819335938),\n ('angularjs', 0.9888232946395874),\n ('boot', 0.9856981635093689),\n ('api', 0.9854363203048706),\n ('jee', 0.9850679636001587),\n ('azure', 0.9845379590988159),\n ('jquery', 0.9838833808898926),\n ('extensive', 0.9837096929550171),\n ('interpersonal', 0.9832513332366943),\n ('objectoriented', 0.9823232889175415),\n ('docker', 0.9815223813056946),\n ('oracle', 0.9812016487121582),\n ('frameworks', 0.9809296131134033),\n ('should', 0.9806993007659912),\n ('good', 0.9803382158279419),\n ('spring', 0.9797128438949585)]"
     },
     "metadata": {},
     "execution_count": 8
    }
   ],
   "source": [
    "model = Word2Vec.load(\"goede.model\")\n",
    "w1 = [\"css\"]\n",
    "model.wv.most_similar(positive=w1, topn=20)\n",
    ""
   ]
  },
  {
   "cell_type": "code",
   "execution_count": 53,
   "metadata": {},
   "outputs": [
    {
     "output_type": "stream",
     "name": "stdout",
     "text": "frozenset({'thru', 'move', 'themselves', 'down', 'seeming', 'never', 'perhaps', 'will', 'nor', 'himself', 'sixty', 'from', 'formerly', 'bottom', 'whoever', 'nothing', 'none', 'etc', 'cant', 'across', 'why', 'almost', 'should', 'became', 'interest', 'my', 'much', 'thence', 'more', 'toward', 'among', 'all', 'give', 'sometime', 'then', 'us', 'enough', 're', 'third', 'so', 'couldnt', 'whenever', 'bill', 'whatever', 'towards', 'top', 'along', 'whom', 'put', 'everything', 'who', 'can', 'thick', 'whither', 'are', 'used', 'everywhere', 'namely', 'their', 'hereafter', 'within', 'hasnt', 'make', 'if', 'i', 'still', 'thus', 'meanwhile', 'together', 'always', 'whereupon', 'without', 'other', 'side', 'amount', 'ours', 'quite', 'rather', 'off', 'was', 'done', 'and', 'beside', 'around', 'get', 'various', 'system', 'each', 'become', 'some', 'what', 'yet', 'seem', 'you', 'the', 'our', 'fifteen', 'into', 'while', 'before', 'besides', 'herein', 'for', 'everyone', 'these', 'could', 'she', 'else', 'now', 'very', 'is', 'upon', 'ourselves', 'we', 'kg', 'go', 'really', 'over', 'own', 'find', 'thin', 'another', 'eleven', 'since', 'up', 'seemed', 'alone', 'him', 'throughout', 'due', 'her', 'call', 'any', 'in', 'that', 'four', 'five', 'least', 'about', 'anyhow', 'when', 'fire', 'eg', 'but', 'onto', 'beyond', 'until', 'detail', 'per', 'those', 'often', 'too', 'it', 'except', 'here', 'this', 'empty', 'therefore', 'sometimes', 'computer', 'itself', 'of', 'well', 'somewhere', 'does', 'eight', 'first', 'found', 'where', 'take', 'otherwise', 'hereby', 'am', 'un', 'didn', 'hers', 'whereas', 'on', 'thereby', 'doing', 'might', 'ltd', 'wherein', 'mine', 'last', 'would', 'fill', 'somehow', 'two', 'next', 'describe', 'whereby', 'amoungst', 'doesn', 'no', 'because', 'have', 'or', 'twenty', 'been', 'yourself', 'something', 'don', 'nevertheless', 'inc', 'several', 'whose', 'during', 'thereupon', 'hundred', 'only', 'nowhere', 'same', 'with', 'his', 'did', 'yours', 'again', 'anywhere', 'whence', 'most', 'latter', 'be', 'may', 'cry', 'few', 'noone', 'its', 'above', 'wherever', 'between', 'although', 'mostly', 'whether', 'such', 'being', 'hereupon', 'latterly', 'already', 'both', 'someone', 'afterwards', 'your', 'amongst', 'after', 'anyway', 'by', 'former', 'yourselves', 'further', 'name', 'keep', 'serious', 'once', 'through', 'therein', 'see', 'full', 'show', 'unless', 'using', 'de', 'had', 'against', 'also', 'however', 'herself', 'co', 'there', 'nobody', 'myself', 'thereafter', 'becoming', 'becomes', 'ever', 'which', 'whole', 'made', 'back', 'forty', 'how', 'me', 'even', 'say', 'to', 'anything', 'just', 'via', 'one', 'though', 'regarding', 'were', 'mill', 'three', 'moreover', 'con', 'km', 'six', 'please', 'seems', 'a', 'not', 'do', 'cannot', 'at', 'they', 'under', 'below', 'part', 'sincere', 'must', 'every', 'an', 'he', 'has', 'neither', 'behind', 'elsewhere', 'either', 'ten', 'less', 'than', 'fifty', 'hence', 'front', 'nine', 'others', 'indeed', 'ie', 'them', 'whereafter', 'anyone', 'beforehand', 'many', 'twelve', 'as', 'out'})\n"
    }
   ],
   "source": [
    "print(all_stopwords)"
   ]
  },
  {
   "cell_type": "code",
   "execution_count": null,
   "metadata": {},
   "outputs": [],
   "source": []
  }
 ]
}