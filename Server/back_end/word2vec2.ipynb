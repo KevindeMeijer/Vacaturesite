{
 "nbformat": 4,
 "nbformat_minor": 2,
 "metadata": {
  "language_info": {
   "name": "python",
   "codemirror_mode": {
    "name": "ipython",
    "version": 3
   },
   "version": "3.7.6-final"
  },
  "orig_nbformat": 2,
  "file_extension": ".py",
  "mimetype": "text/x-python",
  "name": "python",
  "npconvert_exporter": "python",
  "pygments_lexer": "ipython3",
  "version": 3,
  "kernelspec": {
   "name": "python37664bit79ca10c6d3a7415c98f7bdaeac8adea5",
   "display_name": "Python 3.7.6 64-bit"
  }
 },
 "cells": [
  {
   "cell_type": "code",
   "execution_count": 46,
   "metadata": {
    "tags": [
     "outputPrepend"
    ]
   },
   "outputs": [],
   "source": [
    "import gensim\n",
    "import logging\n",
    "import os\n",
    "from gensim.models import Word2Vec\n",
    "\n",
    "from sklearn.decomposition import PCA\n",
    "from matplotlib import pyplot\n",
    "\n",
    "from nosql_db_connectie import divided_sentense_vacature_list, vacature_description, all_stopwords\n",
    "\n",
    "logging.basicConfig(format=\"%(asctime)s : %(levelname)s : %(message)s, level=logging.INFO\")"
   ]
  },
  {
   "cell_type": "code",
   "execution_count": 44,
   "metadata": {
    "tags": [
     "outputPrepend"
    ]
   },
   "outputs": [],
   "source": [
    "model = gensim.models.Word2Vec(divided_sentense_vacature_list, size=120, window=5, min_count=5, workers=4, iter=15)"
   ]
  },
  {
   "cell_type": "code",
   "execution_count": 52,
   "metadata": {},
   "outputs": [
    {
     "output_type": "execute_result",
     "data": {
      "text/plain": "[('coding', 0.9978888034820557),\n ('methodologies', 0.9961448311805725),\n ('database', 0.9958069324493408),\n ('building', 0.9946191310882568),\n ('server', 0.9941255450248718),\n ('automation', 0.9923324584960938),\n ('understanding', 0.9914318323135376),\n ('modern', 0.9914053082466125),\n ('technologies', 0.991145133972168),\n ('unit', 0.9887620806694031),\n ('expertise', 0.9876474738121033),\n ('writing', 0.9871630668640137),\n ('integration', 0.986541748046875),\n ('designing', 0.9861851334571838),\n ('environment', 0.9853234887123108),\n ('relational', 0.9839695692062378),\n ('git', 0.983547031879425),\n ('model', 0.9835084676742554),\n ('databases', 0.9830487370491028),\n ('andor', 0.9827273488044739)]"
     },
     "metadata": {},
     "execution_count": 52
    }
   ],
   "source": [
    "model = Word2Vec.load(\"goede.model\")\n",
    "w1 = [\"and\"]\n",
    "model.wv.most_similar(positive=w1, topn=20)\n"
   ]
  },
  {
   "cell_type": "code",
   "execution_count": 53,
   "metadata": {},
   "outputs": [
    {
     "output_type": "stream",
     "name": "stdout",
     "text": "frozenset({'thru', 'move', 'themselves', 'down', 'seeming', 'never', 'perhaps', 'will', 'nor', 'himself', 'sixty', 'from', 'formerly', 'bottom', 'whoever', 'nothing', 'none', 'etc', 'cant', 'across', 'why', 'almost', 'should', 'became', 'interest', 'my', 'much', 'thence', 'more', 'toward', 'among', 'all', 'give', 'sometime', 'then', 'us', 'enough', 're', 'third', 'so', 'couldnt', 'whenever', 'bill', 'whatever', 'towards', 'top', 'along', 'whom', 'put', 'everything', 'who', 'can', 'thick', 'whither', 'are', 'used', 'everywhere', 'namely', 'their', 'hereafter', 'within', 'hasnt', 'make', 'if', 'i', 'still', 'thus', 'meanwhile', 'together', 'always', 'whereupon', 'without', 'other', 'side', 'amount', 'ours', 'quite', 'rather', 'off', 'was', 'done', 'and', 'beside', 'around', 'get', 'various', 'system', 'each', 'become', 'some', 'what', 'yet', 'seem', 'you', 'the', 'our', 'fifteen', 'into', 'while', 'before', 'besides', 'herein', 'for', 'everyone', 'these', 'could', 'she', 'else', 'now', 'very', 'is', 'upon', 'ourselves', 'we', 'kg', 'go', 'really', 'over', 'own', 'find', 'thin', 'another', 'eleven', 'since', 'up', 'seemed', 'alone', 'him', 'throughout', 'due', 'her', 'call', 'any', 'in', 'that', 'four', 'five', 'least', 'about', 'anyhow', 'when', 'fire', 'eg', 'but', 'onto', 'beyond', 'until', 'detail', 'per', 'those', 'often', 'too', 'it', 'except', 'here', 'this', 'empty', 'therefore', 'sometimes', 'computer', 'itself', 'of', 'well', 'somewhere', 'does', 'eight', 'first', 'found', 'where', 'take', 'otherwise', 'hereby', 'am', 'un', 'didn', 'hers', 'whereas', 'on', 'thereby', 'doing', 'might', 'ltd', 'wherein', 'mine', 'last', 'would', 'fill', 'somehow', 'two', 'next', 'describe', 'whereby', 'amoungst', 'doesn', 'no', 'because', 'have', 'or', 'twenty', 'been', 'yourself', 'something', 'don', 'nevertheless', 'inc', 'several', 'whose', 'during', 'thereupon', 'hundred', 'only', 'nowhere', 'same', 'with', 'his', 'did', 'yours', 'again', 'anywhere', 'whence', 'most', 'latter', 'be', 'may', 'cry', 'few', 'noone', 'its', 'above', 'wherever', 'between', 'although', 'mostly', 'whether', 'such', 'being', 'hereupon', 'latterly', 'already', 'both', 'someone', 'afterwards', 'your', 'amongst', 'after', 'anyway', 'by', 'former', 'yourselves', 'further', 'name', 'keep', 'serious', 'once', 'through', 'therein', 'see', 'full', 'show', 'unless', 'using', 'de', 'had', 'against', 'also', 'however', 'herself', 'co', 'there', 'nobody', 'myself', 'thereafter', 'becoming', 'becomes', 'ever', 'which', 'whole', 'made', 'back', 'forty', 'how', 'me', 'even', 'say', 'to', 'anything', 'just', 'via', 'one', 'though', 'regarding', 'were', 'mill', 'three', 'moreover', 'con', 'km', 'six', 'please', 'seems', 'a', 'not', 'do', 'cannot', 'at', 'they', 'under', 'below', 'part', 'sincere', 'must', 'every', 'an', 'he', 'has', 'neither', 'behind', 'elsewhere', 'either', 'ten', 'less', 'than', 'fifty', 'hence', 'front', 'nine', 'others', 'indeed', 'ie', 'them', 'whereafter', 'anyone', 'beforehand', 'many', 'twelve', 'as', 'out'})\n"
    }
   ],
   "source": [
    "print(all_stopwords)"
   ]
  },
  {
   "cell_type": "code",
   "execution_count": null,
   "metadata": {},
   "outputs": [],
   "source": []
  }
 ]
}